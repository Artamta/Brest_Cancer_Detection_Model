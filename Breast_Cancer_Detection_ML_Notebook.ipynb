{
 "cells": [
  {
   "cell_type": "markdown",
   "id": "4f78dab3",
   "metadata": {},
   "source": [
    "# 🩺 Breast Cancer Detection: Data Science & ML Notebook\n",
    "A modern, clear, and interactive notebook for breast cancer prediction."
   ]
  },
  {
   "cell_type": "markdown",
   "id": "35940d79",
   "metadata": {},
   "source": [
    "## 1. Import Libraries\n",
    "Let's start by importing the essential libraries."
   ]
  },
  {
   "cell_type": "code",
   "execution_count": null,
   "id": "d8275455",
   "metadata": {},
   "outputs": [],
   "source": [
    "import numpy as np\n",
    "import pandas as pd\n",
    "import matplotlib.pyplot as plt\n",
    "import seaborn as sns\n",
    "from sklearn.model_selection import train_test_split\n",
    "from sklearn.ensemble import RandomForestClassifier\n",
    "from sklearn.metrics import accuracy_score, confusion_matrix, classification_report"
   ]
  },
  {
   "cell_type": "markdown",
   "id": "3e4272dd",
   "metadata": {},
   "source": [
    "## 2. Load & Preview Data\n",
    "Load the breast cancer dataset and preview its structure."
   ]
  },
  {
   "cell_type": "code",
   "execution_count": null,
   "id": "ce6ed55d",
   "metadata": {},
   "outputs": [],
   "source": [
    "df = pd.read_csv('breast cancer.csv')\n",
    "df.head()"
   ]
  },
  {
   "cell_type": "markdown",
   "id": "04781b6e",
   "metadata": {},
   "source": [
    "## 3. Data Cleaning & Preprocessing\n",
    "Remove unnecessary columns and check for missing values."
   ]
  },
  {
   "cell_type": "code",
   "execution_count": null,
   "id": "b7e2978a",
   "metadata": {},
   "outputs": [],
   "source": [
    "df.drop(['Unnamed: 32', 'id'], axis=1, inplace=True, errors='ignore')\n",
    "df.isnull().sum()"
   ]
  },
  {
   "cell_type": "markdown",
   "id": "49d9978c",
   "metadata": {},
   "source": [
    "## 4. Exploratory Data Analysis\n",
    "Visualize diagnosis distribution and feature correlations."
   ]
  },
  {
   "cell_type": "code",
   "execution_count": null,
   "id": "c4e5920e",
   "metadata": {},
   "outputs": [],
   "source": [
    "sns.countplot(x='diagnosis', data=df)\n",
    "plt.title('Diagnosis Distribution')\n",
    "plt.show()"
   ]
  },
  {
   "cell_type": "code",
   "execution_count": null,
   "id": "17c95389",
   "metadata": {},
   "outputs": [],
   "source": [
    "plt.figure(figsize=(10,8))\n",
    "sns.heatmap(df.corr(), cmap='coolwarm', annot=False)\n",
    "plt.title('Feature Correlation Heatmap')\n",
    "plt.show()"
   ]
  },
  {
   "cell_type": "markdown",
   "id": "43b96a3c",
   "metadata": {},
   "source": [
    "## 5. Prepare Data for Modeling\n",
    "Encode labels and split data."
   ]
  },
  {
   "cell_type": "code",
   "execution_count": null,
   "id": "710b4575",
   "metadata": {},
   "outputs": [],
   "source": [
    "df['diagnosis'] = df['diagnosis'].map({'M':1, 'B':0})\n",
    "X = df.drop('diagnosis', axis=1)\n",
    "y = df['diagnosis']\n",
    "X_train, X_test, y_train, y_test = train_test_split(X, y, test_size=0.2, random_state=42)"
   ]
  },
  {
   "cell_type": "markdown",
   "id": "20a7004a",
   "metadata": {},
   "source": [
    "## 6. Train & Evaluate Model\n",
    "Fit a Random Forest and evaluate performance."
   ]
  },
  {
   "cell_type": "code",
   "execution_count": null,
   "id": "3db679bf",
   "metadata": {},
   "outputs": [],
   "source": [
    "model = RandomForestClassifier(random_state=42)\n",
    "model.fit(X_train, y_train)\n",
    "y_pred = model.predict(X_test)\n",
    "print('Accuracy:', accuracy_score(y_test, y_pred))\n",
    "print('Confusion Matrix:\n",
    "', confusion_matrix(y_test, y_pred))\n",
    "print('Classification Report:\n",
    "', classification_report(y_test, y_pred))"
   ]
  },
  {
   "cell_type": "markdown",
   "id": "e69983cc",
   "metadata": {},
   "source": [
    "## 7. Feature Importance\n",
    "Visualize the most important features."
   ]
  },
  {
   "cell_type": "code",
   "execution_count": null,
   "id": "491e6006",
   "metadata": {},
   "outputs": [],
   "source": [
    "feat_importances = pd.Series(model.feature_importances_, index=X.columns)\n",
    "feat_importances.nlargest(10).plot(kind='barh')\n",
    "plt.title('Top 10 Feature Importances')\n",
    "plt.show()"
   ]
  },
  {
   "cell_type": "markdown",
   "id": "770ea453",
   "metadata": {},
   "source": [
    "## 8. Save Model\n",
    "Export the trained model for use in the web app."
   ]
  },
  {
   "cell_type": "code",
   "execution_count": null,
   "id": "43421ff8",
   "metadata": {},
   "outputs": [],
   "source": [
    "import pickle\n",
    "with open('model.pkl', 'wb') as f:\n",
    "    pickle.dump(model, f)"
   ]
  },
  {
   "cell_type": "markdown",
   "id": "ed1932fe",
   "metadata": {},
   "source": [
    "---\n",
    "### Notebook by GitHub Copilot | 2025"
   ]
  }
 ],
 "metadata": {
  "language_info": {
   "name": "python"
  }
 },
 "nbformat": 4,
 "nbformat_minor": 5
}
